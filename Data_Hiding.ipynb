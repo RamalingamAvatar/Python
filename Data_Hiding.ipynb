{
  "nbformat": 4,
  "nbformat_minor": 0,
  "metadata": {
    "colab": {
      "name": "Data Hiding.ipynb",
      "provenance": [],
      "collapsed_sections": [],
      "include_colab_link": true
    },
    "kernelspec": {
      "name": "python3",
      "display_name": "Python 3"
    }
  },
  "cells": [
    {
      "cell_type": "markdown",
      "metadata": {
        "id": "view-in-github",
        "colab_type": "text"
      },
      "source": [
        "<a href=\"https://colab.research.google.com/github/Sabyasachi123276/Python-Tutorial/blob/master/Data_Hiding.ipynb\" target=\"_parent\"><img src=\"https://colab.research.google.com/assets/colab-badge.svg\" alt=\"Open In Colab\"/></a>"
      ]
    },
    {
      "cell_type": "markdown",
      "metadata": {
        "id": "LUmk7U6IZivY",
        "colab_type": "text"
      },
      "source": [
        "# **Object Oriented Programming in Python | Set 2 (Data Hiding and Object Printing)**\n",
        "**Data hiding**: In Python, we use double underscore (Or __) before the attributes name and those attributes will not be directly visible outside.\n",
        "\n"
      ]
    },
    {
      "cell_type": "code",
      "metadata": {
        "id": "B1iQbFw2ax1x",
        "colab_type": "code",
        "outputId": "e7ad31e0-4c4f-47ab-f53b-20ff2f470338",
        "colab": {
          "base_uri": "https://localhost:8080/",
          "height": 231
        }
      },
      "source": [
        "class MyClass: \n",
        "  \n",
        "    # Hidden member of MyClass \n",
        "    __hiddenVariable = 0\n",
        "    \n",
        "    # A member method that changes  \n",
        "    # __hiddenVariable  \n",
        "    def add(self, increment): \n",
        "        self.__hiddenVariable += increment \n",
        "        print (self.__hiddenVariable) \n",
        "   \n",
        "# Driver code \n",
        "myObject = MyClass()      \n",
        "myObject.add(2) \n",
        "myObject.add(5) \n",
        "  \n",
        "# This line causes error \n",
        "print (myObject.__hiddenVariable) "
      ],
      "execution_count": 0,
      "outputs": [
        {
          "output_type": "stream",
          "text": [
            "2\n",
            "7\n"
          ],
          "name": "stdout"
        },
        {
          "output_type": "error",
          "ename": "AttributeError",
          "evalue": "ignored",
          "traceback": [
            "\u001b[0;31m---------------------------------------------------------------------------\u001b[0m",
            "\u001b[0;31mAttributeError\u001b[0m                            Traceback (most recent call last)",
            "\u001b[0;32m<ipython-input-1-73d99624dbc6>\u001b[0m in \u001b[0;36m<module>\u001b[0;34m()\u001b[0m\n\u001b[1;32m     16\u001b[0m \u001b[0;34m\u001b[0m\u001b[0m\n\u001b[1;32m     17\u001b[0m \u001b[0;31m# This line causes error\u001b[0m\u001b[0;34m\u001b[0m\u001b[0;34m\u001b[0m\u001b[0;34m\u001b[0m\u001b[0m\n\u001b[0;32m---> 18\u001b[0;31m \u001b[0mprint\u001b[0m \u001b[0;34m(\u001b[0m\u001b[0mmyObject\u001b[0m\u001b[0;34m.\u001b[0m\u001b[0m__hiddenVariable\u001b[0m\u001b[0;34m)\u001b[0m\u001b[0;34m\u001b[0m\u001b[0;34m\u001b[0m\u001b[0m\n\u001b[0m",
            "\u001b[0;31mAttributeError\u001b[0m: 'MyClass' object has no attribute '__hiddenVariable'"
          ]
        }
      ]
    },
    {
      "cell_type": "markdown",
      "metadata": {
        "id": "EY-VUBKdbnk4",
        "colab_type": "text"
      },
      "source": [
        "In the above program, we tried to access hidden variable outside the class using object and it threw an exception.\n",
        "\n",
        "We can access the value of hidden attribute by a tricky syntax:\n"
      ]
    },
    {
      "cell_type": "code",
      "metadata": {
        "id": "qt-eqOy7bp1z",
        "colab_type": "code",
        "outputId": "cd29bd61-b193-43d8-cf59-05b65501bc64",
        "colab": {
          "base_uri": "https://localhost:8080/",
          "height": 34
        }
      },
      "source": [
        "# A Python program to demonstrate that hidden \n",
        "# members can be accessed outside a class \n",
        "class MyClass: \n",
        "  \n",
        "    # Hidden member of MyClass \n",
        "    __hiddenVariable = 10\n",
        "  \n",
        "# Driver code \n",
        "myObject = MyClass()      \n",
        "print(myObject._MyClass__hiddenVariable) \n"
      ],
      "execution_count": 0,
      "outputs": [
        {
          "output_type": "stream",
          "text": [
            "10\n"
          ],
          "name": "stdout"
        }
      ]
    },
    {
      "cell_type": "markdown",
      "metadata": {
        "id": "qKJ293ngcp2Y",
        "colab_type": "text"
      },
      "source": [
        "Private methods are accessible outside their class, just not easily accessible. Nothing in Python is truly private; internally, the names of private methods and attributes are mangled and unmangled on the fly to make them seem inaccessible by their given names.\n"
      ]
    },
    {
      "cell_type": "markdown",
      "metadata": {
        "id": "iHLFYrHRdjxo",
        "colab_type": "text"
      },
      "source": [
        "# **Printing Objects**: Printing objects gives us information about objects we are working with. In python this can be achieved by using __repr__ or __str__ methods."
      ]
    },
    {
      "cell_type": "code",
      "metadata": {
        "id": "N2cSfCbNitaS",
        "colab_type": "code",
        "outputId": "538115be-0e1b-487f-975a-ecfe6fdd5271",
        "colab": {
          "base_uri": "https://localhost:8080/",
          "height": 34
        }
      },
      "source": [
        "class Test: \n",
        "\tdef __init__(self, a, b): \n",
        "\t\tself.a = a \n",
        "\t\tself.b = b \n",
        "\n",
        "\tdef __repr__(self): \n",
        "\t\treturn \"Test a:%s b:%s\" % (self.a, self.b) \n",
        "\n",
        "# Driver Code\t\t \n",
        "t = Test(1234, 5678) \n",
        "print(t) \n"
      ],
      "execution_count": 0,
      "outputs": [
        {
          "output_type": "stream",
          "text": [
            "Test a:1234 b:5678\n"
          ],
          "name": "stdout"
        }
      ]
    },
    {
      "cell_type": "code",
      "metadata": {
        "id": "nqridPyUjNiA",
        "colab_type": "code",
        "outputId": "ad18133b-5449-4d70-ad56-20f53e0dd54e",
        "colab": {
          "base_uri": "https://localhost:8080/",
          "height": 34
        }
      },
      "source": [
        "class Test: \n",
        "\tdef __init__(self, a, b): \n",
        "\t\tself.a = a \n",
        "\t\tself.b = b \n",
        "\n",
        "\tdef __str__(self): \n",
        "\t\treturn \"Test a:%s b:%s\" % (self.a, self.b) \n",
        "\n",
        "# Driver Code\t\t \n",
        "t = Test(1234, 5678) \n",
        "print(t) \n"
      ],
      "execution_count": 0,
      "outputs": [
        {
          "output_type": "stream",
          "text": [
            "Test a:1234 b:5678\n"
          ],
          "name": "stdout"
        }
      ]
    },
    {
      "cell_type": "markdown",
      "metadata": {
        "id": "aH3pcSqDjU8u",
        "colab_type": "text"
      },
      "source": [
        "If none of the __repr__ or __str__ method is defined then the default is used.\n"
      ]
    },
    {
      "cell_type": "code",
      "metadata": {
        "id": "wxDbjbKSjpeD",
        "colab_type": "code",
        "outputId": "96ca6706-4505-4856-fdb4-a5b9a4f2cb9f",
        "colab": {
          "base_uri": "https://localhost:8080/",
          "height": 34
        }
      },
      "source": [
        "class Test: \n",
        "\tdef __init__(self, a, b): \n",
        "\t\tself.a = a \n",
        "\t\tself.b = b \n",
        "\n",
        "# Driver Code\t\t \n",
        "t = Test(1234, 5678) \n",
        "print(t) \n"
      ],
      "execution_count": 0,
      "outputs": [
        {
          "output_type": "stream",
          "text": [
            "<__main__.Test object at 0x7fc43c083a90>\n"
          ],
          "name": "stdout"
        }
      ]
    }
  ]
}