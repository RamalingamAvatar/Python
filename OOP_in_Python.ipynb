{
  "nbformat": 4,
  "nbformat_minor": 0,
  "metadata": {
    "colab": {
      "name": "OOP in Python.ipynb",
      "provenance": [],
      "collapsed_sections": [],
      "include_colab_link": true
    },
    "kernelspec": {
      "name": "python3",
      "display_name": "Python 3"
    }
  },
  "cells": [
    {
      "cell_type": "markdown",
      "metadata": {
        "id": "view-in-github",
        "colab_type": "text"
      },
      "source": [
        "<a href=\"https://colab.research.google.com/github/Sabyasachi123276/Python-Tutorial/blob/master/OOP_in_Python.ipynb\" target=\"_parent\"><img src=\"https://colab.research.google.com/assets/colab-badge.svg\" alt=\"Open In Colab\"/></a>"
      ]
    },
    {
      "cell_type": "markdown",
      "metadata": {
        "id": "cHJQk5m2O8XT",
        "colab_type": "text"
      },
      "source": [
        "# **Object-Oriented Programming (OOP) in Python 3**\n",
        "**What Is Object-Oriented Programming (OOP)?**\n",
        "Object-oriented Programming, or OOP for short, is a programming paradigm which provides a means of structuring programs so that properties and behaviors are bundled into individual objects.\n",
        "\n",
        "For instance, an object could represent a person with a name property, age, address, etc., with behaviors like walking, talking, breathing, and running. Or an email with properties like recipient list, subject, body, etc., and behaviors like adding attachments and sending. OOP models real-world entities as software objects, which have some data associated with them and can perform certain functions.\n",
        "Another common programming paradigm is procedural programming which structures a program like a recipe in that it provides a set of steps, in the form of functions and code blocks, which flow sequentially in order to complete a task.\n",
        "\n",
        "The key takeaway is that objects are at the center of the object-oriented programming paradigm, not only representing the data, as in procedural programming, but in the overall structure of the program as well.\n",
        "# **Classes in Python**\n",
        "Focusing first on the data, each thing or object is an instance of some class.\n",
        "\n",
        "The primitive data structures available in Python, like numbers, strings, and lists are designed to represent simple things like the cost of something, the name of a poem, and your favorite colors, respectively.\n",
        "\n",
        "What if you wanted to represent something much more complicated?\n",
        "\n",
        "For example, let’s say you wanted to track a number of different animals. If you used a list, the first element could be the animal’s name while the second element could represent its age.\n",
        "How would you know which element is supposed to be which? What if you had 100 different animals? Are you certain each animal has both a name and an age, and so forth? What if you wanted to add other properties to these animals? This lacks organization, and it’s the exact need for classes.\n",
        "\n",
        "Classes are used to create new user-defined data structures that contain arbitrary information about something. In the case of an animal, we could create an Animal() class to track properties about the Animal like the name and age.\n",
        "\n",
        "It’s important to note that a class just provides structure—it’s a blueprint for how something should be defined, but it doesn’t actually provide any real content itself. The Animal() class may specify that the name and age are necessary for defining an animal, but it will not actually state what a specific animal’s name or age is.\n",
        "\n",
        "It may help to think of a class as an idea for how something should be defined.\n",
        "# **Python Objects (Instances)**\n",
        "While the class is the blueprint, an instance is a copy of the class with actual values, literally an object belonging to a specific class. It’s not an idea anymore; it’s an actual animal, like a dog named Roger who’s eight years old.\n",
        "\n",
        "Put another way, a class is like a form or questionnaire. It defines the needed information. After you fill out the form, your specific copy is an instance of the class; it contains actual information relevant to you.\n",
        "\n",
        "You can fill out multiple copies to create many different instances, but without the form as a guide, you would be lost, not knowing what information is required. Thus, before you can create individual instances of an object, we must first specify what is needed by defining a class.\n",
        "### **How To Define a Class in Python**\n",
        "Defining a class is simple in Python:\n"
      ]
    },
    {
      "cell_type": "code",
      "metadata": {
        "id": "X_FWY91_PMEr",
        "colab_type": "code",
        "colab": {}
      },
      "source": [
        "class Dog:\n",
        "    pass"
      ],
      "execution_count": 0,
      "outputs": []
    },
    {
      "cell_type": "markdown",
      "metadata": {
        "colab_type": "text",
        "id": "ppaPBuJZTNau"
      },
      "source": [
        "You start with the class keyword to indicate that you are creating a class, then you add the name of the class. Also, we used the Python keyword 'pass' here. This is very often used as a place holder where code will eventually go. It allows us to run this code without throwing an error.\n"
      ]
    },
    {
      "cell_type": "markdown",
      "metadata": {
        "id": "rLIQ8ZahPnY7",
        "colab_type": "text"
      },
      "source": [
        "***Instance Attributes***:\n",
        "All classes create objects, and all objects contain characteristics called 'Attributes'. Use the __init__() method to initialize (e.g., specify) an object’s initial attributes by giving them their default value (or state). This method must have at least one argument as well as the self variable, which refers to the object itself (e.g., Dog)."
      ]
    },
    {
      "cell_type": "code",
      "metadata": {
        "id": "IlFvcajAV3up",
        "colab_type": "code",
        "colab": {}
      },
      "source": [
        "class Dog:\n",
        "\n",
        "    # Initializer / Instance Attributes\n",
        "    def __init__(self, name, age):\n",
        "        self.name = name\n",
        "        self.age = age"
      ],
      "execution_count": 0,
      "outputs": []
    },
    {
      "cell_type": "markdown",
      "metadata": {
        "id": "XjRtRIZ9aoGY",
        "colab_type": "text"
      },
      "source": [
        ""
      ]
    },
    {
      "cell_type": "markdown",
      "metadata": {
        "id": "0QEo4X9zpfxS",
        "colab_type": "text"
      },
      "source": [
        "In the case of our Dog() class, each dog has a specific name and age, which is obviously important to know for when you start actually creating different dogs. Remember: the class is just for defining the Dog, not actually creating instances of individual dogs with specific names and ages; we’ll get to that shortly.\n",
        "Similarly, the self variable is also an instance of the class. Since instances of a class have varying values we could state 'Dog.name = name' rather than 'self.name = name'. But since not all dogs share the same name, we need to be able to assign different values to different instances. Hence the need for the special self variable, which will help to keep track of individual instances of each class.\n"
      ]
    },
    {
      "cell_type": "markdown",
      "metadata": {
        "id": "Rd4ETQXEuZIl",
        "colab_type": "text"
      },
      "source": [
        " ***Class Attributes***: While instance attributes are specific to each object, class attributes are the same for all instances—which in this case is all dogs."
      ]
    },
    {
      "cell_type": "code",
      "metadata": {
        "id": "bR2KXFI64Akc",
        "colab_type": "code",
        "colab": {}
      },
      "source": [
        "class Dog:\n",
        "\n",
        "    # Class Attribute\n",
        "    species = 'mammal'\n",
        "\n",
        "    # Initializer / Instance Attributes\n",
        "    def __init__(self, name, age):\n",
        "        self.name = name\n",
        "        self.age = age"
      ],
      "execution_count": 0,
      "outputs": []
    },
    {
      "cell_type": "markdown",
      "metadata": {
        "id": "y4Uo_4mVEBuw",
        "colab_type": "text"
      },
      "source": [
        ""
      ]
    },
    {
      "cell_type": "markdown",
      "metadata": {
        "id": "8TOLo5oD5oDx",
        "colab_type": "text"
      },
      "source": [
        "So while each dog has a unique name and age, every dog will be a mammal.\n",
        "\n",
        "Let’s create some dogs…"
      ]
    },
    {
      "cell_type": "markdown",
      "metadata": {
        "id": "uuHRcVH660ZB",
        "colab_type": "text"
      },
      "source": [
        "***Instantiating Objects***: Instantiating is a fancy term for creating a new, unique instance of a class.\n",
        "\n",
        "For example:"
      ]
    },
    {
      "cell_type": "code",
      "metadata": {
        "id": "fDYdWAJe7HI1",
        "colab_type": "code",
        "colab": {}
      },
      "source": [
        "class Dog:\n",
        "  pass"
      ],
      "execution_count": 0,
      "outputs": []
    },
    {
      "cell_type": "code",
      "metadata": {
        "id": "1orGulSj7jk1",
        "colab_type": "code",
        "outputId": "3c296bb6-cc45-4445-9152-69579890cb4e",
        "colab": {
          "base_uri": "https://localhost:8080/",
          "height": 34
        }
      },
      "source": [
        "Dog()"
      ],
      "execution_count": 0,
      "outputs": [
        {
          "output_type": "execute_result",
          "data": {
            "text/plain": [
              "<__main__.Dog at 0x7f47cbd926a0>"
            ]
          },
          "metadata": {
            "tags": []
          },
          "execution_count": 2
        }
      ]
    },
    {
      "cell_type": "code",
      "metadata": {
        "id": "f6BNbLn87pIl",
        "colab_type": "code",
        "outputId": "2e076439-a570-4df9-c12c-4e2d4cc3506f",
        "colab": {
          "base_uri": "https://localhost:8080/",
          "height": 34
        }
      },
      "source": [
        "Dog()"
      ],
      "execution_count": 0,
      "outputs": [
        {
          "output_type": "execute_result",
          "data": {
            "text/plain": [
              "<__main__.Dog at 0x7f519703e860>"
            ]
          },
          "metadata": {
            "tags": []
          },
          "execution_count": 23
        }
      ]
    },
    {
      "cell_type": "code",
      "metadata": {
        "id": "iSqhircU8BAd",
        "colab_type": "code",
        "outputId": "18ebed97-f73d-4404-ef82-bf23ee22ef7a",
        "colab": {
          "base_uri": "https://localhost:8080/",
          "height": 34
        }
      },
      "source": [
        "a = Dog()\n",
        "b = Dog()\n",
        "a == b"
      ],
      "execution_count": 0,
      "outputs": [
        {
          "output_type": "execute_result",
          "data": {
            "text/plain": [
              "False"
            ]
          },
          "metadata": {
            "tags": []
          },
          "execution_count": 24
        }
      ]
    },
    {
      "cell_type": "markdown",
      "metadata": {
        "id": "UbPv_DtE8SD9",
        "colab_type": "text"
      },
      "source": [
        "We started by defining a new Dog() class, then created two new dogs, each assigned to different objects. So, to create an instance of a class, you use the the class name, followed by parentheses. Then to demonstrate that each instance is actually different, we instantiated two more dogs, assigning each to a variable, then tested if those variables are equal.\n",
        "\n",
        "What do you think the type of a class instance is?"
      ]
    },
    {
      "cell_type": "code",
      "metadata": {
        "colab_type": "code",
        "id": "KAA617s_9yji",
        "colab": {}
      },
      "source": [
        "class Dog:\n",
        "  pass"
      ],
      "execution_count": 0,
      "outputs": []
    },
    {
      "cell_type": "code",
      "metadata": {
        "id": "wnzn1Z2u92fG",
        "colab_type": "code",
        "outputId": "6cb1cdba-8dc4-4cb6-a765-b160a94d3699",
        "colab": {
          "base_uri": "https://localhost:8080/",
          "height": 34
        }
      },
      "source": [
        "a = Dog()\n",
        "type(a)"
      ],
      "execution_count": 0,
      "outputs": [
        {
          "output_type": "execute_result",
          "data": {
            "text/plain": [
              "__main__.Dog"
            ]
          },
          "metadata": {
            "tags": []
          },
          "execution_count": 26
        }
      ]
    },
    {
      "cell_type": "markdown",
      "metadata": {
        "id": "wkKnUpRirBuu",
        "colab_type": "text"
      },
      "source": [
        "Let’s look at a slightly more complex example…"
      ]
    },
    {
      "cell_type": "code",
      "metadata": {
        "id": "50dXmqXRr1oO",
        "colab_type": "code",
        "outputId": "dc64d69f-9987-4cb6-e439-2d4c67dbf9cc",
        "colab": {
          "base_uri": "https://localhost:8080/",
          "height": 51
        }
      },
      "source": [
        "class Dog:\n",
        "\n",
        "    # Class Attribute\n",
        "    species = 'mammal'\n",
        "\n",
        "    # Initializer / Instance Attributes\n",
        "    def __init__(self, name, age):\n",
        "        self.name = name\n",
        "        self.age = age\n",
        "\n",
        "\n",
        "# Instantiate the Dog object\n",
        "philo = Dog(\"Philo\", 5)\n",
        "mikey = Dog(\"Mikey\", 6)\n",
        "\n",
        "# Access the instance attributes\n",
        "print(\"{} is {} and {} is {}.\".format(\n",
        "    philo.name, philo.age, mikey.name, mikey.age))\n",
        "\n",
        "# Is Philo a mammal?\n",
        "if philo.species == \"mammal\":\n",
        "    print(\"{0} is a {1}!\".format(philo.name, philo.species))"
      ],
      "execution_count": 0,
      "outputs": [
        {
          "output_type": "stream",
          "text": [
            "Philo is 5 and Mikey is 6.\n",
            "Philo is a mammal!\n"
          ],
          "name": "stdout"
        }
      ]
    },
    {
      "cell_type": "markdown",
      "metadata": {
        "id": "2-iCrbaTtClT",
        "colab_type": "text"
      },
      "source": [
        "***What’s Going On?***\n",
        "We created a new instance of the Dog() class and assigned it to the variable philo. We then passed it two arguments, \"Philo\" and 5, which represent that dog’s name and age, respectively.\n",
        "\n",
        "These attributes are passed to the __init__ method, which gets called any time you create a new instance, attaching the name and age to the object. You might be wondering why we didn’t have to pass in the self argument.\n",
        "\n",
        "This is Python magic; when you create a new instance of the class, Python automatically determines what self is (a Dog in this case) and passes it to the __init__ method."
      ]
    },
    {
      "cell_type": "markdown",
      "metadata": {
        "id": "RgxyXMALtcA1",
        "colab_type": "text"
      },
      "source": [
        "# **Instance Methods**\n",
        "Instance methods are defined inside a class and are used to get the contents of an instance. They can also be used to perform operations with the attributes of our objects. Like the __init__ method, the first argument is always self:\n"
      ]
    },
    {
      "cell_type": "code",
      "metadata": {
        "id": "yFuiQACfutvU",
        "colab_type": "code",
        "outputId": "e4567d9a-e095-45c3-d698-a1b0127bd27f",
        "colab": {
          "base_uri": "https://localhost:8080/",
          "height": 51
        }
      },
      "source": [
        "class Dog:\n",
        "\n",
        "    # Class Attribute\n",
        "    species = 'mammal'\n",
        "\n",
        "    # Initializer / Instance Attributes\n",
        "    def __init__(self, name, age):\n",
        "        self.name = name\n",
        "        self.age = age\n",
        "\n",
        "    # instance method\n",
        "    def description(self):\n",
        "        return \"{} is {} years old\".format(self.name, self.age)\n",
        "\n",
        "    # instance method\n",
        "    def speak(self, sound):\n",
        "        return \"{} says {}\".format(self.name, sound)\n",
        "\n",
        "# Instantiate the Dog object\n",
        "mikey = Dog(\"Mikey\", 6)\n",
        "\n",
        "# call our instance methods\n",
        "print(mikey.description())\n",
        "print(mikey.speak(\"Gruff Gruff\"))"
      ],
      "execution_count": 0,
      "outputs": [
        {
          "output_type": "stream",
          "text": [
            "Mikey is 6 years old\n",
            "Mikey says Gruff Gruff\n"
          ],
          "name": "stdout"
        }
      ]
    },
    {
      "cell_type": "markdown",
      "metadata": {
        "id": "URb0aZOFvCMw",
        "colab_type": "text"
      },
      "source": [
        "In the latter method, speak(), we are defining behavior.\n"
      ]
    },
    {
      "cell_type": "markdown",
      "metadata": {
        "id": "rLC-lbScvlKO",
        "colab_type": "text"
      },
      "source": [
        "# **Modifying Attributes**\n",
        "You can change the value of attributes based on some behavior:\n"
      ]
    },
    {
      "cell_type": "code",
      "metadata": {
        "id": "t62W7jUqv607",
        "colab_type": "code",
        "outputId": "8fd369db-1c7f-4a46-ec81-5889d7d1ee47",
        "colab": {
          "base_uri": "https://localhost:8080/",
          "height": 34
        }
      },
      "source": [
        " class Email:\n",
        "...     def __init__(self):\n",
        "...         self.is_sent = False\n",
        "...     def send_email(self):\n",
        "...         self.is_sent = True\n",
        "...\n",
        "my_email = Email()\n",
        "my_email.is_sent"
      ],
      "execution_count": 0,
      "outputs": [
        {
          "output_type": "execute_result",
          "data": {
            "text/plain": [
              "False"
            ]
          },
          "metadata": {
            "tags": []
          },
          "execution_count": 29
        }
      ]
    },
    {
      "cell_type": "code",
      "metadata": {
        "id": "2Xcn-oaawWPL",
        "colab_type": "code",
        "outputId": "c7b9a489-4cfd-44f0-f54c-23d7948f8631",
        "colab": {
          "base_uri": "https://localhost:8080/",
          "height": 34
        }
      },
      "source": [
        "my_email.send_email()\n",
        "my_email.is_sent"
      ],
      "execution_count": 0,
      "outputs": [
        {
          "output_type": "execute_result",
          "data": {
            "text/plain": [
              "True"
            ]
          },
          "metadata": {
            "tags": []
          },
          "execution_count": 30
        }
      ]
    },
    {
      "cell_type": "markdown",
      "metadata": {
        "id": "Qi3_BDhdwqRf",
        "colab_type": "text"
      },
      "source": [
        "Here, we added a method to send an email, which updates the is_sent variable to True."
      ]
    },
    {
      "cell_type": "markdown",
      "metadata": {
        "id": "psAiWh2PxH6H",
        "colab_type": "text"
      },
      "source": [
        "# **Python Object Inheritance**\n",
        "Inheritance is the process by which one class takes on the attributes and methods of another. Newly formed classes are called child classes, and the classes that child classes are derived from are called parent classes.\n",
        "\n",
        "It’s important to note that child classes override or extend the functionality (e.g., attributes and behaviors) of parent classes. In other words, child classes inherit all of the parent’s attributes and behaviors but can also specify different behavior to follow. The most basic type of class is an object, which generally all other classes inherit as their parent.\n",
        "\n",
        "When you define a new class, Python 3 it implicitly uses object as the parent class. So the following two definitions are equivalent:"
      ]
    },
    {
      "cell_type": "code",
      "metadata": {
        "id": "gHKhSA4TxM8W",
        "colab_type": "code",
        "colab": {}
      },
      "source": [
        "class Dog:\n",
        "    pass\n",
        "    "
      ],
      "execution_count": 0,
      "outputs": []
    },
    {
      "cell_type": "markdown",
      "metadata": {
        "id": "prttLrOtCecj",
        "colab_type": "text"
      },
      "source": [
        "# **Dog Park Example**\n",
        "Let’s pretend that we’re at a dog park. There are multiple Dog objects engaging in Dog behaviors, each with different attributes. In regular-speak that means some dogs are running, while some are stretching and some are just watching other dogs. Furthermore, each dog has been named by its owner and, since each dog is living and breathing, each ages.\n",
        "\n",
        "What’s another way to differentiate one dog from another? How about the dog’s breed:"
      ]
    },
    {
      "cell_type": "code",
      "metadata": {
        "id": "FODvFmv61A0R",
        "colab_type": "code",
        "outputId": "18308371-1d29-4375-ef48-824311dc273f",
        "colab": {
          "base_uri": "https://localhost:8080/",
          "height": 34
        }
      },
      "source": [
        "class Dog:\n",
        "  def __init__(self, breed):\n",
        "      self.breed = breed\n",
        "\n",
        "spencer = Dog(\"German Shepard\")\n",
        "spencer.breed"
      ],
      "execution_count": 0,
      "outputs": [
        {
          "output_type": "execute_result",
          "data": {
            "text/plain": [
              "'German Shepard'"
            ]
          },
          "metadata": {
            "tags": []
          },
          "execution_count": 32
        }
      ]
    },
    {
      "cell_type": "code",
      "metadata": {
        "id": "fylE02D_1gOE",
        "colab_type": "code",
        "outputId": "40c87f50-6f3a-447b-fd3f-7472095038c3",
        "colab": {
          "base_uri": "https://localhost:8080/",
          "height": 34
        }
      },
      "source": [
        "sara = Dog(\"Boston Terrier\")\n",
        "sara.breed"
      ],
      "execution_count": 0,
      "outputs": [
        {
          "output_type": "execute_result",
          "data": {
            "text/plain": [
              "'Boston Terrier'"
            ]
          },
          "metadata": {
            "tags": []
          },
          "execution_count": 33
        }
      ]
    },
    {
      "cell_type": "markdown",
      "metadata": {
        "id": "mcsYfj651uFi",
        "colab_type": "text"
      },
      "source": [
        "Each breed of dog has slightly different behaviors. To take these into account, let’s create separate classes for each breed. These are child classes of the parent Dog class."
      ]
    },
    {
      "cell_type": "markdown",
      "metadata": {
        "id": "rrYyre2k17UO",
        "colab_type": "text"
      },
      "source": [
        "# **Extending the Functionality of a Parent Class**\n"
      ]
    },
    {
      "cell_type": "code",
      "metadata": {
        "id": "BXAUQAUr2BJI",
        "colab_type": "code",
        "outputId": "feb8b60a-dbbf-40bc-9af5-3ccb20a952b2",
        "colab": {
          "base_uri": "https://localhost:8080/",
          "height": 51
        }
      },
      "source": [
        "# Parent class\n",
        "class Dog:\n",
        "\n",
        "    # Class attribute\n",
        "    species = 'mammal'\n",
        "\n",
        "    # Initializer / Instance attributes\n",
        "    def __init__(self, name, age):\n",
        "        self.name = name\n",
        "        self.age = age\n",
        "\n",
        "    # instance method\n",
        "    def description(self):\n",
        "        return \"{} is {} years old\".format(self.name, self.age)\n",
        "\n",
        "    # instance method\n",
        "    def speak(self, sound):\n",
        "        return \"{} says {}\".format(self.name, sound)\n",
        "\n",
        "\n",
        "# Child class (inherits from Dog class)\n",
        "class RussellTerrier(Dog):\n",
        "    def run(self, speed):\n",
        "        return \"{} runs {}\".format(self.name, speed)\n",
        "\n",
        "\n",
        "# Child class (inherits from Dog class)\n",
        "class Bulldog(Dog):\n",
        "    def run(self, speed):\n",
        "        return \"{} runs {}\".format(self.name, speed)\n",
        "\n",
        "\n",
        "# Child classes inherit attributes and\n",
        "# behaviors from the parent class\n",
        "jim = Bulldog(\"Jim\", 12)\n",
        "print(jim.description())\n",
        "\n",
        "# Child classes have specific attributes\n",
        "# and behaviors as well\n",
        "print(jim.run(\"slowly\"))"
      ],
      "execution_count": 0,
      "outputs": [
        {
          "output_type": "stream",
          "text": [
            "Jim is 12 years old\n",
            "Jim runs slowly\n"
          ],
          "name": "stdout"
        }
      ]
    },
    {
      "cell_type": "markdown",
      "metadata": {
        "id": "1gHsC6Uj2uqk",
        "colab_type": "text"
      },
      "source": [
        "We haven’t added any special attributes or methods to differentiate a RussellTerrier from a Bulldog, but since they’re now two different classes, we could for instance give them different class attributes defining their respective speeds.\n",
        "# **Parent vs. Child Classes**\n",
        "The isinstance() function is used to determine if an instance is also an instance of a certain parent class.\n"
      ]
    },
    {
      "cell_type": "code",
      "metadata": {
        "id": "L4omlDqH3tOI",
        "colab_type": "code",
        "outputId": "778b2e2b-02ce-4413-8710-180915d065ed",
        "colab": {
          "base_uri": "https://localhost:8080/",
          "height": 282
        }
      },
      "source": [
        "# Parent class\n",
        "class Dog:\n",
        "\n",
        "    # Class attribute\n",
        "    species = 'mammal'\n",
        "\n",
        "    # Initializer / Instance attributes\n",
        "    def __init__(self, name, age):\n",
        "        self.name = name\n",
        "        self.age = age\n",
        "\n",
        "    # instance method\n",
        "    def description(self):\n",
        "        return \"{} is {} years old\".format(self.name, self.age)\n",
        "\n",
        "    # instance method\n",
        "    def speak(self, sound):\n",
        "        return \"{} says {}\".format(self.name, sound)\n",
        "\n",
        "\n",
        "# Child class (inherits from Dog() class)\n",
        "class RussellTerrier(Dog):\n",
        "    def run(self, speed):\n",
        "        return \"{} runs {}\".format(self.name, speed)\n",
        "\n",
        "\n",
        "# Child class (inherits from Dog() class)\n",
        "class Bulldog(Dog):\n",
        "    def run(self, speed):\n",
        "        return \"{} runs {}\".format(self.name, speed)\n",
        "\n",
        "\n",
        "# Child classes inherit attributes and\n",
        "# behaviors from the parent class\n",
        "jim = Bulldog(\"Jim\", 12)\n",
        "print(jim.description())\n",
        "\n",
        "# Child classes have specific attributes\n",
        "# and behaviors as well\n",
        "print(jim.run(\"slowly\"))\n",
        "\n",
        "# Is jim an instance of Dog()?\n",
        "print(isinstance(jim, Dog))\n",
        "\n",
        "# Is julie an instance of Dog()?\n",
        "julie = Dog(\"Julie\", 100)\n",
        "print(isinstance(julie, Dog))\n",
        "\n",
        "# Is johnny walker an instance of Bulldog()\n",
        "johnnywalker = RussellTerrier(\"Johnny Walker\", 4)\n",
        "print(isinstance(johnnywalker, Bulldog))\n",
        "\n",
        "# Is julie and instance of jim?\n",
        "print(isinstance(julie, jim))"
      ],
      "execution_count": 0,
      "outputs": [
        {
          "output_type": "stream",
          "text": [
            "Jim is 12 years old\n",
            "Jim runs slowly\n",
            "True\n",
            "True\n",
            "False\n"
          ],
          "name": "stdout"
        },
        {
          "output_type": "error",
          "ename": "TypeError",
          "evalue": "ignored",
          "traceback": [
            "\u001b[0;31m---------------------------------------------------------------------------\u001b[0m",
            "\u001b[0;31mTypeError\u001b[0m                                 Traceback (most recent call last)",
            "\u001b[0;32m<ipython-input-35-b3a599e7db0c>\u001b[0m in \u001b[0;36m<module>\u001b[0;34m()\u001b[0m\n\u001b[1;32m     51\u001b[0m \u001b[0;34m\u001b[0m\u001b[0m\n\u001b[1;32m     52\u001b[0m \u001b[0;31m# Is julie and instance of jim?\u001b[0m\u001b[0;34m\u001b[0m\u001b[0;34m\u001b[0m\u001b[0;34m\u001b[0m\u001b[0m\n\u001b[0;32m---> 53\u001b[0;31m \u001b[0mprint\u001b[0m\u001b[0;34m(\u001b[0m\u001b[0misinstance\u001b[0m\u001b[0;34m(\u001b[0m\u001b[0mjulie\u001b[0m\u001b[0;34m,\u001b[0m \u001b[0mjim\u001b[0m\u001b[0;34m)\u001b[0m\u001b[0;34m)\u001b[0m\u001b[0;34m\u001b[0m\u001b[0;34m\u001b[0m\u001b[0m\n\u001b[0m",
            "\u001b[0;31mTypeError\u001b[0m: isinstance() arg 2 must be a type or tuple of types"
          ]
        }
      ]
    },
    {
      "cell_type": "markdown",
      "metadata": {
        "id": "BKOi0c-P4Hx4",
        "colab_type": "text"
      },
      "source": [
        "Make sense? Both jim and julie are instances of the Dog() class, while johnnywalker is not an instance of the Bulldog() class. Then as a sanity check, we tested if julie is an instance of jim, which is impossible since jim is an instance of a class rather than a class itself—hence the reason for the TypeError."
      ]
    },
    {
      "cell_type": "markdown",
      "metadata": {
        "id": "P_9FMMh66fAG",
        "colab_type": "text"
      },
      "source": [
        "# **Overriding the Functionality of a Parent Class**\n",
        "Remember that child classes can also override attributes and behaviors from the parent class. For examples:\n"
      ]
    },
    {
      "cell_type": "code",
      "metadata": {
        "id": "6oYtYphw6sST",
        "colab_type": "code",
        "outputId": "6e9c8b72-d690-4052-8ad9-a4390ee59e22",
        "colab": {
          "base_uri": "https://localhost:8080/",
          "height": 34
        }
      },
      "source": [
        "class Dog:\n",
        "...     species = 'mammal'\n",
        "...\n",
        ">>> class SomeBreed(Dog):\n",
        "...     pass\n",
        "...\n",
        ">>> class SomeOtherBreed(Dog):\n",
        "...     species = 'reptile'\n",
        "...\n",
        ">>> frank = SomeBreed()\n",
        ">>> frank.species"
      ],
      "execution_count": 0,
      "outputs": [
        {
          "output_type": "execute_result",
          "data": {
            "text/plain": [
              "'mammal'"
            ]
          },
          "metadata": {
            "tags": []
          },
          "execution_count": 36
        }
      ]
    },
    {
      "cell_type": "code",
      "metadata": {
        "id": "tl9elRXH664E",
        "colab_type": "code",
        "outputId": "abbc6db1-e162-4973-bd10-23cec59f0152",
        "colab": {
          "base_uri": "https://localhost:8080/",
          "height": 34
        }
      },
      "source": [
        "beans = SomeOtherBreed()\n",
        "beans.species"
      ],
      "execution_count": 0,
      "outputs": [
        {
          "output_type": "execute_result",
          "data": {
            "text/plain": [
              "'reptile'"
            ]
          },
          "metadata": {
            "tags": []
          },
          "execution_count": 17
        }
      ]
    },
    {
      "cell_type": "markdown",
      "metadata": {
        "id": "MraHHr7J8n2h",
        "colab_type": "text"
      },
      "source": [
        "The SomeBreed() class inherits the species from the parent class, while the SomeOtherBreed() class overrides the species, setting it to reptile."
      ]
    },
    {
      "cell_type": "markdown",
      "metadata": {
        "id": "_f4nDZpf9Igp",
        "colab_type": "text"
      },
      "source": [
        "# **Destroying Objects**\n",
        "A class implements the special method __del__(), called a destructor, that is invoked when the instance is about to be destroyed. This method might be used to clean up any non memory resources used by an instance.\n",
        "Example:\n",
        "This __del__() destructor prints the class name of an instance that is about to be destroyed −\n"
      ]
    },
    {
      "cell_type": "code",
      "metadata": {
        "id": "T4BfI1mH9ZZe",
        "colab_type": "code",
        "outputId": "9fb18bb6-b37a-4505-bb8a-f9116f7c4520",
        "colab": {
          "base_uri": "https://localhost:8080/",
          "height": 180
        }
      },
      "source": [
        "del dog\n",
        "dog"
      ],
      "execution_count": 0,
      "outputs": [
        {
          "output_type": "error",
          "ename": "NameError",
          "evalue": "ignored",
          "traceback": [
            "\u001b[0;31m---------------------------------------------------------------------------\u001b[0m",
            "\u001b[0;31mNameError\u001b[0m                                 Traceback (most recent call last)",
            "\u001b[0;32m<ipython-input-38-8fba5813d8b1>\u001b[0m in \u001b[0;36m<module>\u001b[0;34m()\u001b[0m\n\u001b[0;32m----> 1\u001b[0;31m \u001b[0;32mdel\u001b[0m \u001b[0mdog\u001b[0m\u001b[0;34m\u001b[0m\u001b[0;34m\u001b[0m\u001b[0m\n\u001b[0m\u001b[1;32m      2\u001b[0m \u001b[0mdog\u001b[0m\u001b[0;34m\u001b[0m\u001b[0;34m\u001b[0m\u001b[0m\n",
            "\u001b[0;31mNameError\u001b[0m: name 'dog' is not defined"
          ]
        }
      ]
    },
    {
      "cell_type": "markdown",
      "metadata": {
        "id": "i7gNmQkk-xnG",
        "colab_type": "text"
      },
      "source": [
        "Garbage collection is a very important aspect of any good programming language. Likewise, Python lets us delete a lot of stuff, including objects. To delete an object in Python, we use the ‘del’ keyword. A when we try to refer to a deleted object, it raises NameError.\n"
      ]
    },
    {
      "cell_type": "markdown",
      "metadata": {
        "id": "fCwrsKYryoYY",
        "colab_type": "text"
      },
      "source": [
        "\n",
        "# **Conclusion**\n",
        "You should now know what classes are, why you would want or need to use them, and how to create both parent and child classes to better structure your programs.\n",
        "\n",
        "Please be aware that OOP is a programming paradigm and not a Python concept. Most of the modern programming languages such as Java, C#, C++ follow OOP principles. So the good news is that learning object-oriented programming fundamentals will be valuable to you in a variety of circumstances—whether you’re working in Python or not."
      ]
    }
  ]
}